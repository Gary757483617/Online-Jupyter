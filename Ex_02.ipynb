{
 "cells": [
  {
   "cell_type": "code",
   "execution_count": null,
   "metadata": {},
   "outputs": [],
   "source": [
    "import math as mt\n",
    "import random as rd\n",
    "import matplotlib.pyplot as pl\n",
    "\n",
    "# enter CID\n",
    "cid = [0, 2, 0, 2, 8, 0, 8, 0]"
   ]
  },
  {
   "cell_type": "markdown",
   "metadata": {},
   "source": [
    "## Ex 1"
   ]
  },
  {
   "cell_type": "code",
   "execution_count": null,
   "metadata": {},
   "outputs": [],
   "source": [
    "# initialize A\n",
    "\n",
    "A = [[0]*8 for _ in range(8)]\n",
    "for i in range(8):\n",
    "    A[i][i] = cid[i]\n",
    "    A[i][7-i] = cid[i]\n",
    "\n",
    "# print for check\n",
    "A"
   ]
  },
  {
   "cell_type": "code",
   "execution_count": null,
   "metadata": {},
   "outputs": [],
   "source": [
    "# initialize B\n",
    "\n",
    "b = cid\n",
    "b"
   ]
  },
  {
   "cell_type": "code",
   "execution_count": null,
   "metadata": {},
   "outputs": [],
   "source": [
    "# A.T\n",
    "\n",
    "A_T = [[0]*8 for _ in range(8)]\n",
    "for i in range(8):\n",
    "    A_T[i][i] = A[i][i]\n",
    "    A_T[i][7-i] = A[7-i][i]\n",
    "A_T"
   ]
  },
  {
   "cell_type": "code",
   "execution_count": null,
   "metadata": {},
   "outputs": [],
   "source": [
    "# A - A_T\n",
    "\n",
    "D = []\n",
    "for i in range(0, 8):\n",
    "    # set this row\n",
    "    row = []\n",
    "    for j in range(0, 8):\n",
    "        row += [A[i][j]-A_T[i][j]]\n",
    "    D += [row]\n",
    "\n",
    "for row in D:\n",
    "    print(row)"
   ]
  },
  {
   "cell_type": "code",
   "execution_count": null,
   "metadata": {},
   "outputs": [],
   "source": [
    "# C\n",
    "\n",
    "c = []\n",
    "for i in range(0, 8):\n",
    "    # set this row\n",
    "    # initialise sum\n",
    "    s = 0\n",
    "    for j in range(0, 8):\n",
    "        s += D[i][j]*b[j]\n",
    "    c += [s]\n",
    "c"
   ]
  },
  {
   "cell_type": "markdown",
   "metadata": {},
   "source": [
    "## Ex 2"
   ]
  },
  {
   "cell_type": "code",
   "execution_count": null,
   "metadata": {},
   "outputs": [],
   "source": [
    "# set s1, s2\n",
    "s1 = cid[4]/10+0.9\n",
    "s2 = cid[6]/10+0.6\n",
    "print(s1, s2)"
   ]
  },
  {
   "cell_type": "code",
   "execution_count": null,
   "metadata": {},
   "outputs": [],
   "source": [
    "# plot the doughnut\n",
    "Rtheta = range(0, 360)\n",
    "for theta in Rtheta:\n",
    "    thetar = theta * mt.pi / 180\n",
    "    pl.scatter(10*mt.cos(thetar), 10*mt.sin(thetar), s=3, c='b')\n",
    "    pl.scatter(20*mt.cos(thetar), 20*mt.sin(thetar), s=3, c='b')\n",
    "pl.axes().set_aspect('equal')\n",
    "\n",
    "# set the initial position\n",
    "xc = 0\n",
    "yc = 18\n",
    "pl.scatter(xc, yc, c='r')\n",
    "\n",
    "# start moving\n",
    "while yc >= 0:\n",
    "    # establish next advancement, dx, dy, independently\n",
    "    dx = rd.random()*(s2+s1)-s1  # random number between -s1 and s2\n",
    "    dy = rd.random()*(s2+s1)-s1  # random number between -s1 and s2\n",
    "    # compute next position\n",
    "    xn = xc + dx\n",
    "    yn = yc + dy\n",
    "    rs = xn**2 + yn**2\n",
    "    # check if nect position is within doughnut\n",
    "    if 100 < rs < 400:\n",
    "        # the new position is within the doughnut, move the ant\n",
    "        pl.plot([xc, xn], [yc, yn], c='r')\n",
    "        xc = xn\n",
    "        yc = yn"
   ]
  },
  {
   "cell_type": "markdown",
   "metadata": {},
   "source": [
    "## Ex 3"
   ]
  },
  {
   "cell_type": "code",
   "execution_count": null,
   "metadata": {},
   "outputs": [],
   "source": [
    "# read the file\n",
    "f = open('04 CV19.txt', 'r')\n",
    "t = f.readlines()\n",
    "f.close()\n",
    "\n",
    "# length of data\n",
    "N = len(t)\n",
    "N"
   ]
  },
  {
   "cell_type": "code",
   "execution_count": null,
   "metadata": {
    "scrolled": true
   },
   "outputs": [],
   "source": [
    "# organise the data\n",
    "day = []  # dates\n",
    "infect = []  # number of infections of the day\n",
    "# examine all the data read in, line by line\n",
    "for i in range(0, N):\n",
    "    # check if this line is the start of a new week\n",
    "    if i % 15 == 0:  # start a new week\n",
    "        c = 1\n",
    "    else:\n",
    "        # same week, import date of the day and number of infections of the day\n",
    "        if c % 2 == 1:\n",
    "            # this line contains the date of the day\n",
    "            day += [t[i].rstrip()]\n",
    "        else:\n",
    "            # this line contains the number of infections\n",
    "            infect += [int(t[i].rstrip())]\n",
    "        c += 1\n",
    "\n",
    "# number of days\n",
    "Nd = len(day)\n",
    "\n",
    "# analyse data\n",
    "tot = 0  # overall number of infections\n",
    "days2000 = []  # list of days with high infections (>2000)\n",
    "infectw = []  # number of infections per week\n",
    "\n",
    "totw = 0\n",
    "# scroll data, day by day\n",
    "for i in range(0, Nd):\n",
    "    tot += infect[i]  # update overall infections\n",
    "    # check if this day had high infections (>2000)\n",
    "    if infect[i] > 2000:\n",
    "        # yes, add this date to the list of high infections\n",
    "        days2000 += [day[i]]\n",
    "\n",
    "    # compute weekly number of infections\n",
    "    # add this number of infections to the weekly total\n",
    "    totw += infect[i]  # add the number of infection to this week\n",
    "    # check if end of week\n",
    "    if (i+1) % 7 == 0:\n",
    "        # store the weekly total\n",
    "        infectw += [totw]\n",
    "        # reset the weekly total\n",
    "        totw = 0\n",
    "\n",
    "\n",
    "# analyse weekly data\n",
    "Nw = len(infectw)\n",
    "ratew = []   # weekly rate of infections\n",
    "maxw = infectw[0]  # number of infections in a week\n",
    "week = ['1']  # start assuming teh first week had highest number\n",
    "# scroll the weekly data\n",
    "for i in range(1, Nw):\n",
    "    if infectw[i] > maxw:\n",
    "        # this week has a highest numebr of infections\n",
    "        # updatethe maximum\n",
    "        maxw = infectw[i]\n",
    "        # update the week\n",
    "        week = str(i+1)\n",
    "    # compute the rate for this week\n",
    "    ratew += [(infectw[i]-infectw[i-1])/infectw[i-1]*100]"
   ]
  },
  {
   "cell_type": "code",
   "execution_count": null,
   "metadata": {},
   "outputs": [],
   "source": [
    "# print results\n",
    "\n",
    "print(tot)\n",
    "print(infectw)\n",
    "print(len(days2000))\n",
    "print(days2000)\n",
    "print(ratew)\n",
    "print(week)\n",
    "pl.plot(range(0, Nd), infect)"
   ]
  },
  {
   "cell_type": "markdown",
   "metadata": {},
   "source": [
    "## Ex 4"
   ]
  },
  {
   "cell_type": "code",
   "execution_count": null,
   "metadata": {},
   "outputs": [],
   "source": [
    "def fact(n):\n",
    "    if n == 0:\n",
    "        res = 1\n",
    "    else:\n",
    "        res = n * fact(n-1)\n",
    "    return res\n",
    "\n",
    "\n",
    "def sum(i):\n",
    "    if i == 1:\n",
    "        res = 1\n",
    "    else:\n",
    "        res = sum(i-1) + i**b[5]/fact(i-1)\n",
    "    return res\n",
    "\n",
    "\n",
    "print(sum(15))"
   ]
  }
 ],
 "metadata": {
  "kernelspec": {
   "display_name": "Python 3",
   "language": "python",
   "name": "python3"
  },
  "language_info": {
   "codemirror_mode": {
    "name": "ipython",
    "version": 3
   },
   "file_extension": ".py",
   "mimetype": "text/x-python",
   "name": "python",
   "nbconvert_exporter": "python",
   "pygments_lexer": "ipython3",
   "version": "3.6.6"
  }
 },
 "nbformat": 4,
 "nbformat_minor": 4
}
