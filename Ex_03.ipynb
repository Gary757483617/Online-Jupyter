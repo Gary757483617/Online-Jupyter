{
 "cells": [
  {
   "cell_type": "code",
   "execution_count": null,
   "metadata": {},
   "outputs": [],
   "source": [
    "import math as mt\n",
    "import matplotlib.pyplot as pl"
   ]
  },
  {
   "cell_type": "markdown",
   "metadata": {},
   "source": [
    "## Section 1"
   ]
  },
  {
   "cell_type": "code",
   "execution_count": null,
   "metadata": {},
   "outputs": [],
   "source": [
    "def Swap(a, b):\n",
    "    return (b, a)\n",
    "\n",
    "\n",
    "a = 2\n",
    "b = 3\n",
    "print(a, b)\n",
    "(a, b) = Swap(a, b)\n",
    "print(a, b)"
   ]
  },
  {
   "cell_type": "code",
   "execution_count": null,
   "metadata": {},
   "outputs": [],
   "source": [
    "def Trace(A):\n",
    "    N = len(A)\n",
    "    T = 0\n",
    "    for i in range(0, N):\n",
    "        T += A[i][i]\n",
    "    return T\n",
    "\n",
    "\n",
    "A = [[1,2,3,4,5,6], [6,0,3,4,2,1], [2,1,9,4,6,7], [3,0,8,4,6,5], [1,5,4,3,3,1], [6,1,4,4,3,2]]\n",
    "T = Trace(A)\n",
    "print(T)\n",
    "A"
   ]
  },
  {
   "cell_type": "code",
   "execution_count": null,
   "metadata": {},
   "outputs": [],
   "source": [
    "def Twins(N):\n",
    "    if N == 1:\n",
    "        S = -1\n",
    "    else:\n",
    "        S = (-1)**N*N + Twins(N-1)\n",
    "    return S\n",
    "\n",
    "\n",
    "a = Twins(7)\n",
    "print(a)"
   ]
  },
  {
   "cell_type": "markdown",
   "metadata": {},
   "source": [
    "## Section 2"
   ]
  },
  {
   "cell_type": "code",
   "execution_count": null,
   "metadata": {},
   "outputs": [],
   "source": [
    "def MatOp(A):\n",
    "    N = len(A)\n",
    "    D = [[0]*N for _ in range(N)]\n",
    "    for i in range(N):\n",
    "        D[i][i] = A[i][i]\n",
    "    AD = [[0]*N for _ in range(N)]\n",
    "    D2 = [[0]*N for _ in range(N)]\n",
    "    for i in range(N):\n",
    "        D2[i][i] = D[i][i]**2\n",
    "        for j in range(N):\n",
    "            AD[i][j] = A[i][j] * D[j][j]\n",
    "        AD[i][i] -= D2[i][i]\n",
    "    return AD\n",
    "\n",
    "\n",
    "A = [[1,2,3,4,5,6],[6,0,3,4,2,1],[2,1,9,4,6,7],[3,0,8,4,6,5],[1,5,4,3,3,1],[6,1,4,4,3,2]]\n",
    "T = MatOp(A)\n",
    "T"
   ]
  },
  {
   "cell_type": "code",
   "execution_count": null,
   "metadata": {},
   "outputs": [],
   "source": [
    "def Pipe(theta, L, D):\n",
    "    theta = theta * mt.pi / 180\n",
    "    # find the length of the path\n",
    "    R = abs(0.5*D/mt.sin(theta))\n",
    "    # initial point\n",
    "    x = [0]\n",
    "    y = [0]\n",
    "    # first step\n",
    "    x += [R*mt.cos(theta)]\n",
    "    y += [R*mt.sin(theta)]\n",
    "    bc = 1  # count the bouncing\n",
    "    while x[bc] < L:\n",
    "        theta = - theta  # alternate theta for up and downs\n",
    "        x += [x[bc]+2*R*mt.cos(theta)]\n",
    "        y += [R*mt.sin(theta)]\n",
    "        bc += 1\n",
    "\n",
    "    return x, y, bc"
   ]
  },
  {
   "cell_type": "code",
   "execution_count": null,
   "metadata": {},
   "outputs": [],
   "source": [
    "L = 2\n",
    "D = 0.4\n",
    "theta = 60\n",
    "\n",
    "x, y, bc = Pipe(theta, L, D)"
   ]
  },
  {
   "cell_type": "code",
   "execution_count": null,
   "metadata": {},
   "outputs": [],
   "source": [
    "pl.plot(x, y)\n",
    "pl.axis([0, L, -D/2, D/2])\n",
    "pl.grid()\n",
    "print('number of bounces: '+str(bc-1))"
   ]
  },
  {
   "cell_type": "code",
   "execution_count": null,
   "metadata": {},
   "outputs": [],
   "source": [
    "# read in the file\n",
    "f = open('06 xaxis.txt','r')\n",
    "t = f.readlines()\n",
    "f.close()\n",
    "# extract the data\n",
    "x = []\n",
    "for item in t:\n",
    "    x += [float(item.rstrip())]\n",
    "x[:10]"
   ]
  },
  {
   "cell_type": "code",
   "execution_count": null,
   "metadata": {},
   "outputs": [],
   "source": [
    "# evaluate the series\n",
    "N = 10\n",
    "y = []\n",
    "for xp in x:\n",
    "    yp = 0\n",
    "    for n in range(0, N+1):\n",
    "        yp += (-1)**n * xp**(2*n) / mt.factorial(2*n+1)\n",
    "    y += [yp]\n",
    "y[:10]"
   ]
  },
  {
   "cell_type": "code",
   "execution_count": null,
   "metadata": {},
   "outputs": [],
   "source": [
    "pl.scatter(x, y, s=1, label='y')\n",
    "pl.grid()\n",
    "\n",
    "# compute the derivative\n",
    "Nx = len(x)\n",
    "Rx = range(1, Nx-1)\n",
    "dy = []\n",
    "for i in Rx:\n",
    "    dy += [(y[i+1]-y[i-1])/(x[i+1]-x[i-1])]\n",
    "\n",
    "pl.scatter(x[1:Nx-1], dy, s=1, label='dy')\n",
    "pl.legend()"
   ]
  },
  {
   "cell_type": "code",
   "execution_count": null,
   "metadata": {},
   "outputs": [],
   "source": []
  }
 ],
 "metadata": {
  "kernelspec": {
   "display_name": "Python 3",
   "language": "python",
   "name": "python3"
  },
  "language_info": {
   "codemirror_mode": {
    "name": "ipython",
    "version": 3
   },
   "file_extension": ".py",
   "mimetype": "text/x-python",
   "name": "python",
   "nbconvert_exporter": "python",
   "pygments_lexer": "ipython3",
   "version": "3.6.6"
  }
 },
 "nbformat": 4,
 "nbformat_minor": 4
}
